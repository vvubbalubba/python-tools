{
  "nbformat": 4,
  "nbformat_minor": 0,
  "metadata": {
    "colab": {
      "provenance": []
    },
    "kernelspec": {
      "name": "python3",
      "display_name": "Python 3"
    },
    "language_info": {
      "name": "python"
    }
  },
  "cells": [
    {
      "cell_type": "markdown",
      "source": [
        "Основные типы и операции с тензорами в PyTorch"
      ],
      "metadata": {
        "id": "tDxps-hwji4b"
      }
    },
    {
      "cell_type": "code",
      "source": [
        "import torch"
      ],
      "metadata": {
        "id": "m-5BM5E7lN4l"
      },
      "execution_count": null,
      "outputs": []
    },
    {
      "cell_type": "code",
      "execution_count": null,
      "metadata": {
        "id": "e_a1EuLpjcZx"
      },
      "outputs": [],
      "source": [
        "torch.HalfTensor      # 16 бит, floating point\n",
        "torch.FloatTensor     # 32 бита, floating point\n",
        "torch.DoubleTensor    # 64 бита, floating point\n",
        "\n",
        "torch.ShortTensor     # 16 бит, integer, signed\n",
        "torch.IntTensor       # 32 бита, integer, signed\n",
        "torch.LongTensor      # 64 бита, integer, signed\n",
        "\n",
        "torch.CharTensor      # 8 бит, integer, signed\n",
        "torch.ByteTensor      # 8 бит, integer, unsigned"
      ]
    },
    {
      "cell_type": "code",
      "source": [
        "x = torch.FloatTensor(2, 2)\n",
        "x.zero_()\n",
        "x"
      ],
      "metadata": {
        "colab": {
          "base_uri": "https://localhost:8080/"
        },
        "id": "T1bwu5kPjiKX",
        "outputId": "ce1bcef3-4c4b-404b-d9f8-debdfadbeaed"
      },
      "execution_count": null,
      "outputs": [
        {
          "output_type": "execute_result",
          "data": {
            "text/plain": [
              "tensor([[0., 0.],\n",
              "        [0., 0.]])"
            ]
          },
          "metadata": {},
          "execution_count": 5
        }
      ]
    },
    {
      "cell_type": "code",
      "source": [
        "y = torch.zeros_like(x)\n",
        "# проверка равенства\n",
        "torch.allclose(x, y)"
      ],
      "metadata": {
        "colab": {
          "base_uri": "https://localhost:8080/"
        },
        "id": "rzYXly9xlfL6",
        "outputId": "273af14c-de25-4b85-890b-54c69c519883"
      },
      "execution_count": null,
      "outputs": [
        {
          "output_type": "execute_result",
          "data": {
            "text/plain": [
              "True"
            ]
          },
          "metadata": {},
          "execution_count": 6
        }
      ]
    },
    {
      "cell_type": "code",
      "source": [
        "# случайное распределение\n",
        "x = torch.randn((2,3))\n",
        "x.random_(0, 10)                      # Дискретное равномерно U[0, 10]\n",
        "x.uniform_(0, 1)                      # Равномерно U[0, 1]\n",
        "x.normal_(mean=0, std=1)              # Нормальное со средним 0 и дисперсией 1\n",
        "x.bernoulli_(p=0.5)                   # bernoulli with parameter p"
      ],
      "metadata": {
        "id": "hAVNFhLGl0H3"
      },
      "execution_count": null,
      "outputs": []
    },
    {
      "cell_type": "code",
      "source": [
        "# решейпы\n",
        "a = torch.FloatTensor([[1, 2, 3], [4, 5, 6]])\n",
        "b = a.view(3, 2)\n",
        "a.reshape(-1)\n",
        "a.permute(1, 0)   # не то же самое что view!\n",
        "a.transpose(1, 2)"
      ],
      "metadata": {
        "id": "jdwWy1yCmy53"
      },
      "execution_count": null,
      "outputs": []
    },
    {
      "cell_type": "code",
      "source": [
        "# изменение типа\n",
        "a.type_as(torch.IntTensor())\n",
        "a.to(torch.int32)\n",
        "a.to(torch.uint8)"
      ],
      "metadata": {
        "colab": {
          "base_uri": "https://localhost:8080/"
        },
        "id": "4CbKhNHKnoGZ",
        "outputId": "72687330-3616-4c7b-831b-66540cff9294"
      },
      "execution_count": null,
      "outputs": [
        {
          "output_type": "execute_result",
          "data": {
            "text/plain": [
              "tensor([[1, 2, 3],\n",
              "        [4, 5, 6]], dtype=torch.uint8)"
            ]
          },
          "metadata": {},
          "execution_count": 20
        }
      ]
    },
    {
      "cell_type": "code",
      "source": [
        "z# операции\n",
        "a = torch.FloatTensor([[1, 2, 1], [2, 1, 2]])\n",
        "b = torch.FloatTensor([[2, 1, 2], [1, 1, 1]])\n",
        "\n",
        "a * b          # поэлементное умножение\n",
        "a / b          # поэлементное деление\n",
        "a == b         # поэлементное сравнение\n",
        "a[a > b]       # индексация по логической маске\n",
        "a.abs()        # поэлементное применение функции модуль\n",
        "a.sum(dim=0)   # сумма по оси dim\n",
        "a.mean(dim=0)  # среднее по оси dim\n",
        "a.max(0)       # максимумы по оси + их индексы в строке"
      ],
      "metadata": {
        "id": "7qPzD1TZnonE"
      },
      "execution_count": null,
      "outputs": []
    },
    {
      "cell_type": "markdown",
      "source": [
        "Операции всегда производятся по той оси, которая исчезнет после применения операции."
      ],
      "metadata": {
        "id": "P2VvRClzr5ix"
      }
    },
    {
      "cell_type": "code",
      "source": [
        "# фиктивные оси\n",
        "a[:, :, None]"
      ],
      "metadata": {
        "colab": {
          "base_uri": "https://localhost:8080/"
        },
        "id": "FoQ4TQrZqvqy",
        "outputId": "00d0d409-2c2f-45da-88a6-dd0048acd594"
      },
      "execution_count": null,
      "outputs": [
        {
          "output_type": "execute_result",
          "data": {
            "text/plain": [
              "tensor([[[1.],\n",
              "         [2.],\n",
              "         [1.]],\n",
              "\n",
              "        [[2.],\n",
              "         [1.],\n",
              "         [2.]]])"
            ]
          },
          "metadata": {},
          "execution_count": 24
        }
      ]
    },
    {
      "cell_type": "code",
      "source": [
        "# нормализации тензора\n",
        "mean = a.mean(1)\n",
        "std = a.std(1)\n",
        "a -= mean.reshape(-1,1)\n",
        "a /= std.reshape(-1,1)"
      ],
      "metadata": {
        "id": "Obmsr5qTstqe"
      },
      "execution_count": null,
      "outputs": []
    },
    {
      "cell_type": "code",
      "source": [
        "# векторные операции\n",
        "\n",
        "a = torch.FloatTensor([1, 2, 3, 4, 5, 6])\n",
        "b = torch.FloatTensor([-1, -2, -4, -6, -8, -10])\n",
        "\n",
        "a.dot(b)       # скалярное произведение векторов\n",
        "a @ b          # скалярное произведение векторов"
      ],
      "metadata": {
        "colab": {
          "base_uri": "https://localhost:8080/"
        },
        "id": "XOTlIwKds7NV",
        "outputId": "6ae839e0-1353-4d43-f2cb-401db38155f2"
      },
      "execution_count": null,
      "outputs": [
        {
          "output_type": "execute_result",
          "data": {
            "text/plain": [
              "tensor(-141.)"
            ]
          },
          "metadata": {},
          "execution_count": 55
        }
      ]
    },
    {
      "cell_type": "code",
      "source": [
        "# матричные операции\n",
        "\n",
        "a = torch.FloatTensor([[1, 2, 3], [10, 20, 30], [100, 200, 300]])\n",
        "b = torch.FloatTensor([[-1, -2, -3], [-10, -20, -30], [100, 200, 300]])\n",
        "\n",
        "a.mm(b)        # матричное произведение\n",
        "a @ b          # матричное произведение"
      ],
      "metadata": {
        "colab": {
          "base_uri": "https://localhost:8080/"
        },
        "id": "7IYQ2YTdx4N-",
        "outputId": "cdb9e383-516d-4134-8fa8-e42f07f96e6b"
      },
      "execution_count": null,
      "outputs": [
        {
          "output_type": "execute_result",
          "data": {
            "text/plain": [
              "tensor([[  279.,   558.,   837.],\n",
              "        [ 2790.,  5580.,  8370.],\n",
              "        [27900., 55800., 83700.]])"
            ]
          },
          "metadata": {},
          "execution_count": 56
        }
      ]
    },
    {
      "cell_type": "code",
      "source": [
        "# конвертация\n",
        "import numpy as np\n",
        "\n",
        "a = np.random.rand(2, 2)\n",
        "b = torch.from_numpy(a)\n",
        "x = b.numpy()"
      ],
      "metadata": {
        "id": "fYouQQ7Oyg8q"
      },
      "execution_count": null,
      "outputs": []
    },
    {
      "cell_type": "code",
      "source": [
        "# CUDA\n",
        "\n",
        "x.is_cuda\n",
        "x = x.cuda()\n",
        "x = x.cpu()\n",
        "torch.cuda.empty_cache()\n",
        "\n",
        "device = 'cuda' if torch.cuda.is_available() else 'cpu'\n",
        "x = x.to(device)"
      ],
      "metadata": {
        "id": "_EZxqZ6i1mGw"
      },
      "execution_count": null,
      "outputs": []
    },
    {
      "cell_type": "markdown",
      "source": [
        "Advanced operations"
      ],
      "metadata": {
        "id": "dKzGYhWUoW31"
      }
    },
    {
      "cell_type": "code",
      "source": [
        "import torch\n",
        "\n",
        "# вместо среза\n",
        "m = torch.randn(2,3,4)\n",
        "# torch.narrow(tensor, dimension, start, length)\n",
        "torch.narrow(m,1,2,1)"
      ],
      "metadata": {
        "colab": {
          "base_uri": "https://localhost:8080/"
        },
        "id": "VPXk85G-oXF4",
        "outputId": "2d37506f-b126-4acb-88a0-c5d64a029d86"
      },
      "execution_count": 1,
      "outputs": [
        {
          "output_type": "execute_result",
          "data": {
            "text/plain": [
              "tensor([[[-0.1475, -2.0303,  0.8303, -1.3733]],\n",
              "\n",
              "        [[-0.3598,  1.6185, -0.2450, -0.5121]]])"
            ]
          },
          "metadata": {},
          "execution_count": 1
        }
      ]
    },
    {
      "cell_type": "code",
      "source": [
        "m = torch.randn(3,2)\n",
        "n = torch.randn(2,2)\n",
        "# матричное умножение\n",
        "torch.matmul(m,n)"
      ],
      "metadata": {
        "id": "T3QHVV4ToXIE"
      },
      "execution_count": null,
      "outputs": []
    },
    {
      "cell_type": "code",
      "source": [
        "torch.where(m<0,m,n)        # где True - m, иначе - n\n",
        "torch.all(m,0)              # все ли по этому dim True\n",
        "n = m.squeeze(dim = 0)      # убирает указанное dim\n",
        "m.unbind(dim = 1)           # возвращает tuple тензоров по указанному dim\n",
        "\n",
        "torch.tensor.half()         # перевод в int16 -> работает быстрее"
      ],
      "metadata": {
        "id": "FqsIfMs0oXLm"
      },
      "execution_count": null,
      "outputs": []
    },
    {
      "cell_type": "code",
      "source": [
        "# торч может умножать и прибавлять по батчам\n",
        "a = torch.randn((8, 5, 5))\n",
        "b = torch.randn((5, 5))\n",
        "\n",
        "(a @ b).shape"
      ],
      "metadata": {
        "colab": {
          "base_uri": "https://localhost:8080/"
        },
        "id": "Oz3RKNOLpiZJ",
        "outputId": "5f140ed5-8a9a-49d1-cbec-460ee8f1588d"
      },
      "execution_count": 3,
      "outputs": [
        {
          "output_type": "execute_result",
          "data": {
            "text/plain": [
              "torch.Size([8, 5, 5])"
            ]
          },
          "metadata": {},
          "execution_count": 3
        }
      ]
    },
    {
      "cell_type": "code",
      "source": [
        "(a + b).shape        # прибавляет к каждому из 8"
      ],
      "metadata": {
        "colab": {
          "base_uri": "https://localhost:8080/"
        },
        "id": "nst7V1cIpicU",
        "outputId": "88937939-84a5-49d1-a7a9-fc2eba30685d"
      },
      "execution_count": 4,
      "outputs": [
        {
          "output_type": "execute_result",
          "data": {
            "text/plain": [
              "torch.Size([8, 5, 5])"
            ]
          },
          "metadata": {},
          "execution_count": 4
        }
      ]
    },
    {
      "cell_type": "code",
      "source": [
        "# выбор значения из нужного канала\n",
        "n_samples = 1\n",
        "dim = 0\n",
        "src = torch.randn((4, 4, 6))\n",
        "index = torch.randint(low = 0, high = 4, size = (n_samples, 4, 6))\n",
        "out = torch.gather(src, dim=dim, index=index)"
      ],
      "metadata": {
        "id": "L-o7CqjYs5-w"
      },
      "execution_count": 25,
      "outputs": []
    },
    {
      "cell_type": "code",
      "source": [
        "# перевод обратно в исходные тензоры\n",
        "torch.zeros((4, 4, 6)).scatter_add_(dim=dim, index=index, src=out).shape"
      ],
      "metadata": {
        "colab": {
          "base_uri": "https://localhost:8080/"
        },
        "id": "nbQLfup_utB0",
        "outputId": "2722222a-2e5e-4267-e4f4-457c6bcc6093"
      },
      "execution_count": 29,
      "outputs": [
        {
          "output_type": "execute_result",
          "data": {
            "text/plain": [
              "torch.Size([4, 4, 6])"
            ]
          },
          "metadata": {},
          "execution_count": 29
        }
      ]
    },
    {
      "cell_type": "code",
      "source": [
        "import torch.functional as F\n",
        "F.unfold()     # im2col\n",
        "F.fold()       # col2im"
      ],
      "metadata": {
        "id": "LG9J-Qbuu__7"
      },
      "execution_count": 34,
      "outputs": []
    },
    {
      "cell_type": "markdown",
      "source": [
        "Распространенные ошибки при обучении\n",
        "\n",
        "1. Использование softmax и CrossEntropyLoss() - в ней уже считается softmax\n",
        "2. Использование bias и BatchNorm() - аналогично\n"
      ],
      "metadata": {
        "id": "xlrn0uSJ1zH6"
      }
    },
    {
      "cell_type": "code",
      "source": [],
      "metadata": {
        "id": "K3tTQ6GVv_pU"
      },
      "execution_count": null,
      "outputs": []
    }
  ]
}