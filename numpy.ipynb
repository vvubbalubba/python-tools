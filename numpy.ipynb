{
  "nbformat": 4,
  "nbformat_minor": 0,
  "metadata": {
    "colab": {
      "provenance": []
    },
    "kernelspec": {
      "name": "python3",
      "display_name": "Python 3"
    },
    "language_info": {
      "name": "python"
    }
  },
  "cells": [
    {
      "cell_type": "code",
      "execution_count": 1,
      "metadata": {
        "id": "uNum2tnmgRHT"
      },
      "outputs": [],
      "source": [
        "import numpy as np"
      ]
    },
    {
      "cell_type": "code",
      "source": [
        "np.lookfor('mean value of array')    # поиск по документации\n",
        "a = np.linspace(1, 15, 20)           # сетка - начало, конец, число точек\n",
        "b = np.logspace(0, 3, 12)            # логарифмическая шкала\n",
        "b.cumsum()                           # кумулятивная сумма\n",
        "# np.delete, np.insert\n",
        "a[::-1]                              # массив в обратном порядке\n",
        "c = np.eye(3)                        # единичная матрица\n",
        "d = np.diag([1, 2, 3, 'a'])          # диагональная матрица\n",
        "# сортировка\n",
        "np.sort(a)\n",
        "a.sort()\n",
        "np.hstack((a, b))                    # объединение по 2 оси (кроме одномерных)\n",
        "np.hsplit(a, 2)                      # разбиение\n",
        "b.ravel()                            # растягивание в 1мерный массив"
      ],
      "metadata": {
        "id": "wl-GoAS0gqP0"
      },
      "execution_count": null,
      "outputs": []
    },
    {
      "cell_type": "code",
      "source": [
        "a * b                          # поэлементное умножение\n",
        "a @ b                          # матричное умножение\n",
        "a.dot(b)                       # матричное умножение\n",
        "\n",
        "u = np.linspace(1, 2, 2)\n",
        "v = np.linspace(4, 8, 3)\n",
        "x, y = np.meshgrid(u, v)       # x_ij = u_j, y_ij = v_i\n",
        "\n",
        "np.linalg.det(a)               # линал\n",
        "np.linalg.inv(a)"
      ],
      "metadata": {
        "id": "C_8atu47rzTy"
      },
      "execution_count": 7,
      "outputs": []
    },
    {
      "cell_type": "code",
      "source": [],
      "metadata": {
        "id": "QXCBhL80r2HE"
      },
      "execution_count": null,
      "outputs": []
    }
  ]
}